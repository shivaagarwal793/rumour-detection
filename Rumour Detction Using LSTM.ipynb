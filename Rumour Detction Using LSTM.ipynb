{
  "nbformat": 4,
  "nbformat_minor": 0,
  "metadata": {
    "colab": {
      "name": "Untitled1.ipynb",
      "provenance": []
    },
    "kernelspec": {
      "name": "python3",
      "display_name": "Python 3"
    },
    "language_info": {
      "name": "python"
    },
    "accelerator": "GPU"
  },
  "cells": [
    {
      "cell_type": "code",
      "metadata": {
        "colab": {
          "base_uri": "https://localhost:8080/",
          "height": 17
        },
        "id": "4YpAhTmJ4GpN",
        "outputId": "fe9f6918-217f-489d-a688-d53a12404f75"
      },
      "source": [
        "#Basic libraries\n",
        "import pandas as pd \n",
        "import numpy as np \n",
        "\n",
        "#Visualization libraries\n",
        "import matplotlib.pyplot as plt \n",
        "from matplotlib import rcParams\n",
        "import seaborn as sns\n",
        "from textblob import TextBlob\n",
        "from plotly import tools\n",
        "import plotly.graph_objs as go\n",
        "from plotly.offline import iplot\n",
        "%matplotlib inline\n",
        "plt.rcParams['figure.figsize'] = [10, 5]\n",
        "import cufflinks as cf\n",
        "cf.go_offline()\n",
        "cf.set_config_file(offline=False, world_readable=True)\n",
        "\n",
        "#NLTK libraries\n",
        "import nltk\n",
        "import re\n",
        "import string\n",
        "from nltk.corpus import stopwords\n",
        "from wordcloud import WordCloud,STOPWORDS\n",
        "from nltk.stem.porter import PorterStemmer\n",
        "from sklearn.feature_extraction.text import TfidfVectorizer\n",
        "from sklearn.feature_extraction.text import CountVectorizer\n",
        "# Machine Learning libraries\n",
        "import sklearn \n",
        "from sklearn.model_selection import GridSearchCV\n",
        "from sklearn.linear_model import LogisticRegression\n",
        "from sklearn.tree import DecisionTreeClassifier\n",
        "from sklearn.naive_bayes import MultinomialNB \n",
        "from sklearn.neighbors import KNeighborsClassifier\n",
        "from sklearn.model_selection import train_test_split\n",
        " \n",
        "\n",
        "#Metrics libraries\n",
        "from sklearn import metrics\n",
        "from sklearn.metrics import classification_report\n",
        "from sklearn.model_selection import cross_val_score\n",
        "from sklearn.metrics import roc_auc_score\n",
        "from sklearn.metrics import roc_curve\n",
        "from sklearn.metrics import confusion_matrix\n",
        "from sklearn.metrics import accuracy_score\n",
        "\n",
        "#Miscellanous libraries\n",
        "from collections import Counter\n",
        "\n",
        "#Ignore warnings\n",
        "import warnings\n",
        "warnings.filterwarnings('ignore')\n",
        "\n",
        "#Deep learning libraries\n",
        "from tensorflow.keras.layers import Embedding\n",
        "from tensorflow.keras.preprocessing.sequence import pad_sequences\n",
        "from tensorflow.keras.models import Sequential\n",
        "from tensorflow.keras.preprocessing.text import one_hot\n",
        "from tensorflow.keras.layers import LSTM\n",
        "from tensorflow.keras.layers import Bidirectional\n",
        "from tensorflow.keras.layers import Dense\n",
        "from tensorflow.keras.layers import Dropout"
      ],
      "execution_count": 1,
      "outputs": [
        {
          "output_type": "display_data",
          "data": {
            "text/html": [
              "        <script type=\"text/javascript\">\n",
              "        window.PlotlyConfig = {MathJaxConfig: 'local'};\n",
              "        if (window.MathJax) {MathJax.Hub.Config({SVG: {font: \"STIX-Web\"}});}\n",
              "        if (typeof require !== 'undefined') {\n",
              "        require.undef(\"plotly\");\n",
              "        requirejs.config({\n",
              "            paths: {\n",
              "                'plotly': ['https://cdn.plot.ly/plotly-latest.min']\n",
              "            }\n",
              "        });\n",
              "        require(['plotly'], function(Plotly) {\n",
              "            window._Plotly = Plotly;\n",
              "        });\n",
              "        }\n",
              "        </script>\n",
              "        "
            ]
          },
          "metadata": {
            "tags": []
          }
        }
      ]
    },
    {
      "cell_type": "code",
      "metadata": {
        "colab": {
          "base_uri": "https://localhost:8080/"
        },
        "id": "stlIp7hq5tJt",
        "outputId": "7b842b35-0aa7-4482-f336-7ccfd13fdb19"
      },
      "source": [
        "#reading the fake and true datasets\n",
        "fake_news = pd.read_csv('/Fake.csv')\n",
        "true_news = pd.read_csv('/True.csv')\n",
        "\n",
        "# print shape of fake dataset with rows and columns and information \n",
        "print (\"The shape of the  data is (row, column):\"+ str(fake_news.shape))\n",
        "print (fake_news.info())\n",
        "print(\"\\n --------------------------------------- \\n\")\n",
        "\n",
        "# print shape of true dataset with rows and columns and information\n",
        "print (\"The shape of the  data is (row, column):\"+ str(true_news.shape))\n",
        "print (true_news.info())"
      ],
      "execution_count": 50,
      "outputs": [
        {
          "output_type": "stream",
          "text": [
            "The shape of the  data is (row, column):(23481, 4)\n",
            "<class 'pandas.core.frame.DataFrame'>\n",
            "RangeIndex: 23481 entries, 0 to 23480\n",
            "Data columns (total 4 columns):\n",
            " #   Column   Non-Null Count  Dtype \n",
            "---  ------   --------------  ----- \n",
            " 0   title    23481 non-null  object\n",
            " 1   text     23481 non-null  object\n",
            " 2   subject  23481 non-null  object\n",
            " 3   date     23481 non-null  object\n",
            "dtypes: object(4)\n",
            "memory usage: 733.9+ KB\n",
            "None\n",
            "\n",
            " --------------------------------------- \n",
            "\n",
            "The shape of the  data is (row, column):(21417, 4)\n",
            "<class 'pandas.core.frame.DataFrame'>\n",
            "RangeIndex: 21417 entries, 0 to 21416\n",
            "Data columns (total 4 columns):\n",
            " #   Column   Non-Null Count  Dtype \n",
            "---  ------   --------------  ----- \n",
            " 0   title    21417 non-null  object\n",
            " 1   text     21417 non-null  object\n",
            " 2   subject  21417 non-null  object\n",
            " 3   date     21417 non-null  object\n",
            "dtypes: object(4)\n",
            "memory usage: 669.4+ KB\n",
            "None\n"
          ],
          "name": "stdout"
        }
      ]
    },
    {
      "cell_type": "code",
      "metadata": {
        "id": "S9T0T5JI-MLs"
      },
      "source": [
        "#Target variable for fake news\n",
        "fake_news['output']=0\n",
        "\n",
        "#Target variable for true news\n",
        "true_news['output']=1"
      ],
      "execution_count": 51,
      "outputs": []
    },
    {
      "cell_type": "code",
      "metadata": {
        "id": "Bx1oKGWI-MYS"
      },
      "source": [
        "#Concatenating and dropping for fake news\n",
        "fake_news['news']=fake_news['title']+fake_news['text']\n",
        "fake_news=fake_news.drop(['title', 'text'], axis=1)\n",
        "\n",
        "#Concatenating and dropping for true news\n",
        "true_news['news']=true_news['title']+true_news['text']\n",
        "true_news=true_news.drop(['title', 'text'], axis=1)\n",
        "\n",
        "#Rearranging the columns\n",
        "fake_news = fake_news[['subject', 'date', 'news','output']]\n",
        "true_news = true_news[['subject', 'date', 'news','output']]"
      ],
      "execution_count": 4,
      "outputs": []
    },
    {
      "cell_type": "code",
      "metadata": {
        "colab": {
          "base_uri": "https://localhost:8080/"
        },
        "id": "wtjbb0pJ-Mgf",
        "outputId": "e6919c3b-2930-41c1-c4c9-351dbf9be893"
      },
      "source": [
        "fake_news['date'].value_counts()"
      ],
      "execution_count": 5,
      "outputs": [
        {
          "output_type": "execute_result",
          "data": {
            "text/plain": [
              "May 10, 2017         46\n",
              "May 6, 2016          44\n",
              "May 5, 2016          44\n",
              "May 26, 2016         44\n",
              "May 11, 2016         43\n",
              "                     ..\n",
              "December 11, 2017     1\n",
              "December 9, 2017      1\n",
              "14-Feb-18             1\n",
              "December 4, 2017      1\n",
              "Jul 19, 2015          1\n",
              "Name: date, Length: 1681, dtype: int64"
            ]
          },
          "metadata": {
            "tags": []
          },
          "execution_count": 5
        }
      ]
    },
    {
      "cell_type": "code",
      "metadata": {
        "colab": {
          "base_uri": "https://localhost:8080/",
          "height": 35
        },
        "id": "aBJIpMrp-MjY",
        "outputId": "1b85d9c0-2f98-4a39-c17e-357e68476a38"
      },
      "source": [
        "#Removing links and the headline from the date column\n",
        "fake_news=fake_news[~fake_news.date.str.contains(\"http\")]\n",
        "fake_news=fake_news[~fake_news.date.str.contains(\"HOST\")]\n",
        "\n",
        "'''You can also execute the below code to get the result \n",
        "which allows only string which has the months and rest are filtered'''\n",
        "#fake_news=fake_news[fake_news.date.str.contains(\"Jan|Feb|Mar|Apr|May|Jun|Jul|Aug|Sep|Oct|Nov|Dec\")]"
      ],
      "execution_count": 6,
      "outputs": [
        {
          "output_type": "execute_result",
          "data": {
            "application/vnd.google.colaboratory.intrinsic+json": {
              "type": "string"
            },
            "text/plain": [
              "'You can also execute the below code to get the result \\nwhich allows only string which has the months and rest are filtered'"
            ]
          },
          "metadata": {
            "tags": []
          },
          "execution_count": 6
        }
      ]
    },
    {
      "cell_type": "code",
      "metadata": {
        "id": "gBEbL7BD-MmI"
      },
      "source": [
        "#Converting the date to datetime format\n",
        "fake_news['date'] = pd.to_datetime(fake_news['date'])\n",
        "true_news['date'] = pd.to_datetime(true_news['date'])"
      ],
      "execution_count": 7,
      "outputs": []
    },
    {
      "cell_type": "code",
      "metadata": {
        "colab": {
          "base_uri": "https://localhost:8080/",
          "height": 419
        },
        "id": "zcDLYnt_-Mor",
        "outputId": "b1ae1e4d-c33e-4196-8e52-7d69a742cc09"
      },
      "source": [
        "frames = [fake_news, true_news]\n",
        "news_dataset = pd.concat(frames)\n",
        "news_dataset"
      ],
      "execution_count": 8,
      "outputs": [
        {
          "output_type": "execute_result",
          "data": {
            "text/html": [
              "<div>\n",
              "<style scoped>\n",
              "    .dataframe tbody tr th:only-of-type {\n",
              "        vertical-align: middle;\n",
              "    }\n",
              "\n",
              "    .dataframe tbody tr th {\n",
              "        vertical-align: top;\n",
              "    }\n",
              "\n",
              "    .dataframe thead th {\n",
              "        text-align: right;\n",
              "    }\n",
              "</style>\n",
              "<table border=\"1\" class=\"dataframe\">\n",
              "  <thead>\n",
              "    <tr style=\"text-align: right;\">\n",
              "      <th></th>\n",
              "      <th>subject</th>\n",
              "      <th>date</th>\n",
              "      <th>news</th>\n",
              "      <th>output</th>\n",
              "    </tr>\n",
              "  </thead>\n",
              "  <tbody>\n",
              "    <tr>\n",
              "      <th>0</th>\n",
              "      <td>News</td>\n",
              "      <td>2017-12-31</td>\n",
              "      <td>Donald Trump Sends Out Embarrassing New Year’...</td>\n",
              "      <td>0</td>\n",
              "    </tr>\n",
              "    <tr>\n",
              "      <th>1</th>\n",
              "      <td>News</td>\n",
              "      <td>2017-12-31</td>\n",
              "      <td>Drunk Bragging Trump Staffer Started Russian ...</td>\n",
              "      <td>0</td>\n",
              "    </tr>\n",
              "    <tr>\n",
              "      <th>2</th>\n",
              "      <td>News</td>\n",
              "      <td>2017-12-30</td>\n",
              "      <td>Sheriff David Clarke Becomes An Internet Joke...</td>\n",
              "      <td>0</td>\n",
              "    </tr>\n",
              "    <tr>\n",
              "      <th>3</th>\n",
              "      <td>News</td>\n",
              "      <td>2017-12-29</td>\n",
              "      <td>Trump Is So Obsessed He Even Has Obama’s Name...</td>\n",
              "      <td>0</td>\n",
              "    </tr>\n",
              "    <tr>\n",
              "      <th>4</th>\n",
              "      <td>News</td>\n",
              "      <td>2017-12-25</td>\n",
              "      <td>Pope Francis Just Called Out Donald Trump Dur...</td>\n",
              "      <td>0</td>\n",
              "    </tr>\n",
              "    <tr>\n",
              "      <th>...</th>\n",
              "      <td>...</td>\n",
              "      <td>...</td>\n",
              "      <td>...</td>\n",
              "      <td>...</td>\n",
              "    </tr>\n",
              "    <tr>\n",
              "      <th>21412</th>\n",
              "      <td>worldnews</td>\n",
              "      <td>2017-08-22</td>\n",
              "      <td>'Fully committed' NATO backs new U.S. approach...</td>\n",
              "      <td>1</td>\n",
              "    </tr>\n",
              "    <tr>\n",
              "      <th>21413</th>\n",
              "      <td>worldnews</td>\n",
              "      <td>2017-08-22</td>\n",
              "      <td>LexisNexis withdrew two products from Chinese ...</td>\n",
              "      <td>1</td>\n",
              "    </tr>\n",
              "    <tr>\n",
              "      <th>21414</th>\n",
              "      <td>worldnews</td>\n",
              "      <td>2017-08-22</td>\n",
              "      <td>Minsk cultural hub becomes haven from authorit...</td>\n",
              "      <td>1</td>\n",
              "    </tr>\n",
              "    <tr>\n",
              "      <th>21415</th>\n",
              "      <td>worldnews</td>\n",
              "      <td>2017-08-22</td>\n",
              "      <td>Vatican upbeat on possibility of Pope Francis ...</td>\n",
              "      <td>1</td>\n",
              "    </tr>\n",
              "    <tr>\n",
              "      <th>21416</th>\n",
              "      <td>worldnews</td>\n",
              "      <td>2017-08-22</td>\n",
              "      <td>Indonesia to buy $1.14 billion worth of Russia...</td>\n",
              "      <td>1</td>\n",
              "    </tr>\n",
              "  </tbody>\n",
              "</table>\n",
              "<p>44888 rows × 4 columns</p>\n",
              "</div>"
            ],
            "text/plain": [
              "         subject  ... output\n",
              "0           News  ...      0\n",
              "1           News  ...      0\n",
              "2           News  ...      0\n",
              "3           News  ...      0\n",
              "4           News  ...      0\n",
              "...          ...  ...    ...\n",
              "21412  worldnews  ...      1\n",
              "21413  worldnews  ...      1\n",
              "21414  worldnews  ...      1\n",
              "21415  worldnews  ...      1\n",
              "21416  worldnews  ...      1\n",
              "\n",
              "[44888 rows x 4 columns]"
            ]
          },
          "metadata": {
            "tags": []
          },
          "execution_count": 8
        }
      ]
    },
    {
      "cell_type": "code",
      "metadata": {
        "colab": {
          "base_uri": "https://localhost:8080/",
          "height": 204
        },
        "id": "W7PS1BBY-MrI",
        "outputId": "3447e08e-6ca3-4f7b-a4b5-fa2e038dad50"
      },
      "source": [
        "#Creating a copy \n",
        "clean_news=news_dataset.copy()\n",
        "def review_cleaning(text):\n",
        "    '''Make text lowercase, remove text in square brackets,remove links,remove punctuation\n",
        "    and remove words containing numbers.'''\n",
        "    text = str(text).lower()\n",
        "    text = re.sub('\\[.*?\\]', '', text)\n",
        "    text = re.sub('https?://\\S+|www\\.\\S+', '', text)\n",
        "    text = re.sub('<.*?>+', '', text)\n",
        "    text = re.sub('[%s]' % re.escape(string.punctuation), '', text)\n",
        "    text = re.sub('\\n', '', text)\n",
        "    text = re.sub('\\w*\\d\\w*', '', text)\n",
        "    return clean_news['news'].apply(lambda x:review_cleaning(x))\n",
        "clean_news.head()"
      ],
      "execution_count": 9,
      "outputs": [
        {
          "output_type": "execute_result",
          "data": {
            "text/html": [
              "<div>\n",
              "<style scoped>\n",
              "    .dataframe tbody tr th:only-of-type {\n",
              "        vertical-align: middle;\n",
              "    }\n",
              "\n",
              "    .dataframe tbody tr th {\n",
              "        vertical-align: top;\n",
              "    }\n",
              "\n",
              "    .dataframe thead th {\n",
              "        text-align: right;\n",
              "    }\n",
              "</style>\n",
              "<table border=\"1\" class=\"dataframe\">\n",
              "  <thead>\n",
              "    <tr style=\"text-align: right;\">\n",
              "      <th></th>\n",
              "      <th>subject</th>\n",
              "      <th>date</th>\n",
              "      <th>news</th>\n",
              "      <th>output</th>\n",
              "    </tr>\n",
              "  </thead>\n",
              "  <tbody>\n",
              "    <tr>\n",
              "      <th>0</th>\n",
              "      <td>News</td>\n",
              "      <td>2017-12-31</td>\n",
              "      <td>Donald Trump Sends Out Embarrassing New Year’...</td>\n",
              "      <td>0</td>\n",
              "    </tr>\n",
              "    <tr>\n",
              "      <th>1</th>\n",
              "      <td>News</td>\n",
              "      <td>2017-12-31</td>\n",
              "      <td>Drunk Bragging Trump Staffer Started Russian ...</td>\n",
              "      <td>0</td>\n",
              "    </tr>\n",
              "    <tr>\n",
              "      <th>2</th>\n",
              "      <td>News</td>\n",
              "      <td>2017-12-30</td>\n",
              "      <td>Sheriff David Clarke Becomes An Internet Joke...</td>\n",
              "      <td>0</td>\n",
              "    </tr>\n",
              "    <tr>\n",
              "      <th>3</th>\n",
              "      <td>News</td>\n",
              "      <td>2017-12-29</td>\n",
              "      <td>Trump Is So Obsessed He Even Has Obama’s Name...</td>\n",
              "      <td>0</td>\n",
              "    </tr>\n",
              "    <tr>\n",
              "      <th>4</th>\n",
              "      <td>News</td>\n",
              "      <td>2017-12-25</td>\n",
              "      <td>Pope Francis Just Called Out Donald Trump Dur...</td>\n",
              "      <td>0</td>\n",
              "    </tr>\n",
              "  </tbody>\n",
              "</table>\n",
              "</div>"
            ],
            "text/plain": [
              "  subject       date                                               news  output\n",
              "0    News 2017-12-31   Donald Trump Sends Out Embarrassing New Year’...       0\n",
              "1    News 2017-12-31   Drunk Bragging Trump Staffer Started Russian ...       0\n",
              "2    News 2017-12-30   Sheriff David Clarke Becomes An Internet Joke...       0\n",
              "3    News 2017-12-29   Trump Is So Obsessed He Even Has Obama’s Name...       0\n",
              "4    News 2017-12-25   Pope Francis Just Called Out Donald Trump Dur...       0"
            ]
          },
          "metadata": {
            "tags": []
          },
          "execution_count": 9
        }
      ]
    },
    {
      "cell_type": "code",
      "metadata": {
        "colab": {
          "base_uri": "https://localhost:8080/"
        },
        "id": "BQNTR3uc-3Cs",
        "outputId": "12903ada-2d41-4866-bbc5-58d7fdf6b63f"
      },
      "source": [
        "import nltk\n",
        "nltk.download('stopwords')"
      ],
      "execution_count": 11,
      "outputs": [
        {
          "output_type": "stream",
          "text": [
            "[nltk_data] Downloading package stopwords to /root/nltk_data...\n",
            "[nltk_data]   Unzipping corpora/stopwords.zip.\n"
          ],
          "name": "stdout"
        },
        {
          "output_type": "execute_result",
          "data": {
            "text/plain": [
              "True"
            ]
          },
          "metadata": {
            "tags": []
          },
          "execution_count": 11
        }
      ]
    },
    {
      "cell_type": "code",
      "metadata": {
        "colab": {
          "base_uri": "https://localhost:8080/",
          "height": 204
        },
        "id": "Ea2tcKrO-M3D",
        "outputId": "c899f03b-28bf-4f9f-cbda-f068996c578e"
      },
      "source": [
        "stop = stopwords.words('english')\n",
        "clean_news['news'] = clean_news['news'].apply(lambda x: ' '.join([word for word in x.split() if word not in (stop)]))\n",
        "clean_news.head()"
      ],
      "execution_count": 12,
      "outputs": [
        {
          "output_type": "execute_result",
          "data": {
            "text/html": [
              "<div>\n",
              "<style scoped>\n",
              "    .dataframe tbody tr th:only-of-type {\n",
              "        vertical-align: middle;\n",
              "    }\n",
              "\n",
              "    .dataframe tbody tr th {\n",
              "        vertical-align: top;\n",
              "    }\n",
              "\n",
              "    .dataframe thead th {\n",
              "        text-align: right;\n",
              "    }\n",
              "</style>\n",
              "<table border=\"1\" class=\"dataframe\">\n",
              "  <thead>\n",
              "    <tr style=\"text-align: right;\">\n",
              "      <th></th>\n",
              "      <th>subject</th>\n",
              "      <th>date</th>\n",
              "      <th>news</th>\n",
              "      <th>output</th>\n",
              "    </tr>\n",
              "  </thead>\n",
              "  <tbody>\n",
              "    <tr>\n",
              "      <th>0</th>\n",
              "      <td>News</td>\n",
              "      <td>2017-12-31</td>\n",
              "      <td>Donald Trump Sends Out Embarrassing New Year’s...</td>\n",
              "      <td>0</td>\n",
              "    </tr>\n",
              "    <tr>\n",
              "      <th>1</th>\n",
              "      <td>News</td>\n",
              "      <td>2017-12-31</td>\n",
              "      <td>Drunk Bragging Trump Staffer Started Russian C...</td>\n",
              "      <td>0</td>\n",
              "    </tr>\n",
              "    <tr>\n",
              "      <th>2</th>\n",
              "      <td>News</td>\n",
              "      <td>2017-12-30</td>\n",
              "      <td>Sheriff David Clarke Becomes An Internet Joke ...</td>\n",
              "      <td>0</td>\n",
              "    </tr>\n",
              "    <tr>\n",
              "      <th>3</th>\n",
              "      <td>News</td>\n",
              "      <td>2017-12-29</td>\n",
              "      <td>Trump Is So Obsessed He Even Has Obama’s Name ...</td>\n",
              "      <td>0</td>\n",
              "    </tr>\n",
              "    <tr>\n",
              "      <th>4</th>\n",
              "      <td>News</td>\n",
              "      <td>2017-12-25</td>\n",
              "      <td>Pope Francis Just Called Out Donald Trump Duri...</td>\n",
              "      <td>0</td>\n",
              "    </tr>\n",
              "  </tbody>\n",
              "</table>\n",
              "</div>"
            ],
            "text/plain": [
              "  subject       date                                               news  output\n",
              "0    News 2017-12-31  Donald Trump Sends Out Embarrassing New Year’s...       0\n",
              "1    News 2017-12-31  Drunk Bragging Trump Staffer Started Russian C...       0\n",
              "2    News 2017-12-30  Sheriff David Clarke Becomes An Internet Joke ...       0\n",
              "3    News 2017-12-29  Trump Is So Obsessed He Even Has Obama’s Name ...       0\n",
              "4    News 2017-12-25  Pope Francis Just Called Out Donald Trump Duri...       0"
            ]
          },
          "metadata": {
            "tags": []
          },
          "execution_count": 12
        }
      ]
    },
    {
      "cell_type": "code",
      "metadata": {
        "colab": {
          "base_uri": "https://localhost:8080/",
          "height": 204
        },
        "id": "k1WiIyFZ-M67",
        "outputId": "022ae715-08bd-48b9-a2f9-cfe766c1371a"
      },
      "source": [
        "#Extracting 'reviews' for processing\n",
        "news_features=clean_news.copy()\n",
        "news_features=news_features[['news']].reset_index(drop=True)\n",
        "news_features.head()"
      ],
      "execution_count": 17,
      "outputs": [
        {
          "output_type": "execute_result",
          "data": {
            "text/html": [
              "<div>\n",
              "<style scoped>\n",
              "    .dataframe tbody tr th:only-of-type {\n",
              "        vertical-align: middle;\n",
              "    }\n",
              "\n",
              "    .dataframe tbody tr th {\n",
              "        vertical-align: top;\n",
              "    }\n",
              "\n",
              "    .dataframe thead th {\n",
              "        text-align: right;\n",
              "    }\n",
              "</style>\n",
              "<table border=\"1\" class=\"dataframe\">\n",
              "  <thead>\n",
              "    <tr style=\"text-align: right;\">\n",
              "      <th></th>\n",
              "      <th>news</th>\n",
              "    </tr>\n",
              "  </thead>\n",
              "  <tbody>\n",
              "    <tr>\n",
              "      <th>0</th>\n",
              "      <td>Donald Trump Sends Out Embarrassing New Year’s...</td>\n",
              "    </tr>\n",
              "    <tr>\n",
              "      <th>1</th>\n",
              "      <td>Drunk Bragging Trump Staffer Started Russian C...</td>\n",
              "    </tr>\n",
              "    <tr>\n",
              "      <th>2</th>\n",
              "      <td>Sheriff David Clarke Becomes An Internet Joke ...</td>\n",
              "    </tr>\n",
              "    <tr>\n",
              "      <th>3</th>\n",
              "      <td>Trump Is So Obsessed He Even Has Obama’s Name ...</td>\n",
              "    </tr>\n",
              "    <tr>\n",
              "      <th>4</th>\n",
              "      <td>Pope Francis Just Called Out Donald Trump Duri...</td>\n",
              "    </tr>\n",
              "  </tbody>\n",
              "</table>\n",
              "</div>"
            ],
            "text/plain": [
              "                                                news\n",
              "0  Donald Trump Sends Out Embarrassing New Year’s...\n",
              "1  Drunk Bragging Trump Staffer Started Russian C...\n",
              "2  Sheriff David Clarke Becomes An Internet Joke ...\n",
              "3  Trump Is So Obsessed He Even Has Obama’s Name ...\n",
              "4  Pope Francis Just Called Out Donald Trump Duri..."
            ]
          },
          "metadata": {
            "tags": []
          },
          "execution_count": 17
        }
      ]
    },
    {
      "cell_type": "code",
      "metadata": {
        "id": "E9EZkuSO-M9v"
      },
      "source": [
        "stop_words = set(stopwords.words(\"english\"))\n",
        "#Performing stemming on the review dataframe\n",
        "ps = PorterStemmer()\n",
        "\n",
        "#splitting and adding the stemmed words except stopwords\n",
        "corpus = []\n",
        "for i in range(0, len(news_features)):\n",
        "    news = re.sub('[^a-zA-Z]', ' ', news_features['news'][i])\n",
        "    news= news.lower()\n",
        "    news = news.split()\n",
        "\n",
        "    news = ' '.join(news)\n",
        "    corpus.append(news)#Getting the target variable\n",
        "y=clean_news['output']"
      ],
      "execution_count": 19,
      "outputs": []
    },
    {
      "cell_type": "code",
      "metadata": {
        "id": "6wR3-Nht-NAw"
      },
      "source": [
        "#Setting up vocabulary size\n",
        "voc_size=10000\n",
        "\n",
        "#One hot encoding \n",
        "onehot_repr=[one_hot(words,voc_size)for words in corpus]"
      ],
      "execution_count": 20,
      "outputs": []
    },
    {
      "cell_type": "code",
      "metadata": {
        "colab": {
          "base_uri": "https://localhost:8080/"
        },
        "id": "crL-PL2M-NDa",
        "outputId": "2612a8c8-88db-44df-a1a3-fd440d4737e2"
      },
      "source": [
        "#Setting sentence length\n",
        "sent_length=5000\n",
        "\n",
        "#Padding the sentences\n",
        "embedded_docs=pad_sequences(onehot_repr,padding='pre',maxlen=sent_length)\n",
        "print(embedded_docs)"
      ],
      "execution_count": 22,
      "outputs": [
        {
          "output_type": "stream",
          "text": [
            "[[   0    0    0 ...   30 3659 1629]\n",
            " [   0    0    0 ... 1836 3659 1629]\n",
            " [   0    0    0 ... 7311 3659 1629]\n",
            " ...\n",
            " [   0    0    0 ... 3504 2187 2317]\n",
            " [   0    0    0 ... 6474 3636 5330]\n",
            " [   0    0    0 ... 5623 6552 1085]]\n"
          ],
          "name": "stdout"
        }
      ]
    },
    {
      "cell_type": "code",
      "metadata": {
        "colab": {
          "base_uri": "https://localhost:8080/"
        },
        "id": "T7Cd_PFj-NGU",
        "outputId": "39532fdd-88e1-4c19-8873-5457cae95208"
      },
      "source": [
        "#Creating the lstm model\n",
        "embedding_vector_features=40\n",
        "model=Sequential()\n",
        "model.add(Embedding(voc_size,embedding_vector_features,input_length=sent_length))\n",
        "model.add(Dropout(0.3))\n",
        "model.add(LSTM(100)) #Adding 100 lstm neurons in the layer\n",
        "model.add(Dropout(0.3))\n",
        "model.add(Dense(1,activation='sigmoid'))\n",
        "\n",
        "#Compiling the model\n",
        "model.compile(loss='binary_crossentropy',optimizer='adam',metrics=['accuracy'])\n",
        "print(model.summary())"
      ],
      "execution_count": 23,
      "outputs": [
        {
          "output_type": "stream",
          "text": [
            "Model: \"sequential\"\n",
            "_________________________________________________________________\n",
            "Layer (type)                 Output Shape              Param #   \n",
            "=================================================================\n",
            "embedding (Embedding)        (None, 5000, 40)          400000    \n",
            "_________________________________________________________________\n",
            "dropout (Dropout)            (None, 5000, 40)          0         \n",
            "_________________________________________________________________\n",
            "lstm (LSTM)                  (None, 100)               56400     \n",
            "_________________________________________________________________\n",
            "dropout_1 (Dropout)          (None, 100)               0         \n",
            "_________________________________________________________________\n",
            "dense (Dense)                (None, 1)                 101       \n",
            "=================================================================\n",
            "Total params: 456,501\n",
            "Trainable params: 456,501\n",
            "Non-trainable params: 0\n",
            "_________________________________________________________________\n",
            "None\n"
          ],
          "name": "stdout"
        }
      ]
    },
    {
      "cell_type": "code",
      "metadata": {
        "colab": {
          "base_uri": "https://localhost:8080/"
        },
        "id": "2Rq2b5Zr-NIi",
        "outputId": "e6699ee0-c316-453c-bf58-104280d6a498"
      },
      "source": [
        "# Converting the X and y as array\n",
        "X_final=np.array(embedded_docs)\n",
        "y_final=np.array(y)\n",
        "\n",
        "#Check shape of X and y final\n",
        "X_final.shape,y_final.shape"
      ],
      "execution_count": 24,
      "outputs": [
        {
          "output_type": "execute_result",
          "data": {
            "text/plain": [
              "((44888, 5000), (44888,))"
            ]
          },
          "metadata": {
            "tags": []
          },
          "execution_count": 24
        }
      ]
    },
    {
      "cell_type": "code",
      "metadata": {
        "colab": {
          "base_uri": "https://localhost:8080/"
        },
        "id": "XGoTAwrR-NK0",
        "outputId": "c72a59b1-8489-4ff4-dd94-d839e78c5598"
      },
      "source": [
        "# Train test split of the X and y final\n",
        "X_train, X_test, y_train, y_test = train_test_split(X_final, y_final, test_size=0.33, random_state=42)\n",
        "\n",
        "# Fitting with 10 epochs and 64 batch size\n",
        "model.fit(X_train,y_train,validation_data=(X_test,y_test),epochs=10,batch_size=64)"
      ],
      "execution_count": 25,
      "outputs": [
        {
          "output_type": "stream",
          "text": [
            "Epoch 1/10\n",
            "470/470 [==============================] - 161s 273ms/step - loss: 0.3106 - accuracy: 0.8897 - val_loss: 0.1227 - val_accuracy: 0.9594\n",
            "Epoch 2/10\n",
            "470/470 [==============================] - 128s 272ms/step - loss: 0.0641 - accuracy: 0.9796 - val_loss: 0.0859 - val_accuracy: 0.9750\n",
            "Epoch 3/10\n",
            "470/470 [==============================] - 126s 269ms/step - loss: 0.0293 - accuracy: 0.9917 - val_loss: 0.0244 - val_accuracy: 0.9945\n",
            "Epoch 4/10\n",
            "470/470 [==============================] - 125s 267ms/step - loss: 0.0152 - accuracy: 0.9958 - val_loss: 0.1111 - val_accuracy: 0.9599\n",
            "Epoch 5/10\n",
            "470/470 [==============================] - 129s 274ms/step - loss: 0.1014 - accuracy: 0.9624 - val_loss: 0.0746 - val_accuracy: 0.9802\n",
            "Epoch 6/10\n",
            "470/470 [==============================] - 128s 272ms/step - loss: 0.1409 - accuracy: 0.9544 - val_loss: 0.0945 - val_accuracy: 0.9713\n",
            "Epoch 7/10\n",
            "470/470 [==============================] - 128s 273ms/step - loss: 0.0527 - accuracy: 0.9834 - val_loss: 0.0482 - val_accuracy: 0.9822\n",
            "Epoch 8/10\n",
            "470/470 [==============================] - 128s 272ms/step - loss: 0.0345 - accuracy: 0.9888 - val_loss: 0.0478 - val_accuracy: 0.9851\n",
            "Epoch 9/10\n",
            "470/470 [==============================] - 128s 273ms/step - loss: 0.0292 - accuracy: 0.9927 - val_loss: 0.0416 - val_accuracy: 0.9877\n",
            "Epoch 10/10\n",
            "470/470 [==============================] - 127s 270ms/step - loss: 0.0164 - accuracy: 0.9957 - val_loss: 0.0469 - val_accuracy: 0.9857\n"
          ],
          "name": "stdout"
        },
        {
          "output_type": "execute_result",
          "data": {
            "text/plain": [
              "<tensorflow.python.keras.callbacks.History at 0x7f5ba02cc5d0>"
            ]
          },
          "metadata": {
            "tags": []
          },
          "execution_count": 25
        }
      ]
    },
    {
      "cell_type": "code",
      "metadata": {
        "id": "bpXGNLmpHSpM"
      },
      "source": [
        "import matplotlib.pyplot as plt  \n",
        "from sklearn.datasets import make_classification\n",
        "from sklearn.metrics import plot_confusion_matrix\n",
        "from sklearn.svm import SVC"
      ],
      "execution_count": 31,
      "outputs": []
    },
    {
      "cell_type": "code",
      "metadata": {
        "id": "HPZhnxgE-NNL"
      },
      "source": [
        "# Predicting from test data\n",
        "y_pred=model.predict_classes(X_test)\n",
        "\n",
        "#Creating confusion matrix\n",
        "confusion_matrix(y_test,y_pred)\n",
        "cm = metrics.confusion_matrix(y_test, y_pred)"
      ],
      "execution_count": 49,
      "outputs": []
    },
    {
      "cell_type": "code",
      "metadata": {
        "colab": {
          "base_uri": "https://localhost:8080/"
        },
        "id": "_hnyBhqt-NPd",
        "outputId": "119c08e2-527f-4e62-db9c-77f9f13f6a6e"
      },
      "source": [
        "#Checking for accuracy\n",
        "accuracy_score(y_test,y_pred)"
      ],
      "execution_count": 41,
      "outputs": [
        {
          "output_type": "execute_result",
          "data": {
            "text/plain": [
              "0.9856892129067099"
            ]
          },
          "metadata": {
            "tags": []
          },
          "execution_count": 41
        }
      ]
    },
    {
      "cell_type": "code",
      "metadata": {
        "colab": {
          "base_uri": "https://localhost:8080/"
        },
        "id": "3EanszOu-NRr",
        "outputId": "642b4006-693b-47f9-b7f1-3543f317dc82"
      },
      "source": [
        "# Creating classification report \n",
        "print(classification_report(y_test,y_pred))"
      ],
      "execution_count": 42,
      "outputs": [
        {
          "output_type": "stream",
          "text": [
            "              precision    recall  f1-score   support\n",
            "\n",
            "           0       0.98      0.99      0.99      7777\n",
            "           1       0.99      0.98      0.98      7037\n",
            "\n",
            "    accuracy                           0.99     14814\n",
            "   macro avg       0.99      0.99      0.99     14814\n",
            "weighted avg       0.99      0.99      0.99     14814\n",
            "\n"
          ],
          "name": "stdout"
        }
      ]
    },
    {
      "cell_type": "code",
      "metadata": {
        "colab": {
          "base_uri": "https://localhost:8080/"
        },
        "id": "5qsaqGcY-NUG",
        "outputId": "ef0b4146-1c96-4ec9-e476-927bb1405c9d"
      },
      "source": [
        "# Creating bidirectional lstm model\n",
        "embedding_vector_features=40\n",
        "model1=Sequential()\n",
        "model1.add(Embedding(voc_size,embedding_vector_features,input_length=sent_length))\n",
        "model1.add(Bidirectional(LSTM(100))) # Bidirectional LSTM layer\n",
        "model1.add(Dropout(0.3))\n",
        "model1.add(Dense(1,activation='sigmoid'))\n",
        "model1.compile(loss='binary_crossentropy',optimizer='adam',metrics=['accuracy'])\n",
        "print(model1.summary())"
      ],
      "execution_count": 43,
      "outputs": [
        {
          "output_type": "stream",
          "text": [
            "Model: \"sequential_1\"\n",
            "_________________________________________________________________\n",
            "Layer (type)                 Output Shape              Param #   \n",
            "=================================================================\n",
            "embedding_1 (Embedding)      (None, 5000, 40)          400000    \n",
            "_________________________________________________________________\n",
            "bidirectional (Bidirectional (None, 200)               112800    \n",
            "_________________________________________________________________\n",
            "dropout_2 (Dropout)          (None, 200)               0         \n",
            "_________________________________________________________________\n",
            "dense_1 (Dense)              (None, 1)                 201       \n",
            "=================================================================\n",
            "Total params: 513,001\n",
            "Trainable params: 513,001\n",
            "Non-trainable params: 0\n",
            "_________________________________________________________________\n",
            "None\n"
          ],
          "name": "stdout"
        }
      ]
    },
    {
      "cell_type": "code",
      "metadata": {
        "colab": {
          "base_uri": "https://localhost:8080/"
        },
        "id": "McVB_9ql_nni",
        "outputId": "f1b9bf11-3eec-4abd-b5de-376b47ea5608"
      },
      "source": [
        "# Fitting the model\n",
        "model1.fit(X_train,y_train,validation_data=(X_test,y_test),epochs=10,batch_size=64)"
      ],
      "execution_count": 44,
      "outputs": [
        {
          "output_type": "stream",
          "text": [
            "Epoch 1/10\n",
            "470/470 [==============================] - 238s 500ms/step - loss: 0.3311 - accuracy: 0.8533 - val_loss: 0.0819 - val_accuracy: 0.9732\n",
            "Epoch 2/10\n",
            "470/470 [==============================] - 235s 500ms/step - loss: 0.0468 - accuracy: 0.9864 - val_loss: 0.0473 - val_accuracy: 0.9868\n",
            "Epoch 3/10\n",
            "470/470 [==============================] - 238s 506ms/step - loss: 0.0245 - accuracy: 0.9931 - val_loss: 0.0419 - val_accuracy: 0.9878\n",
            "Epoch 4/10\n",
            "470/470 [==============================] - 236s 503ms/step - loss: 0.0218 - accuracy: 0.9945 - val_loss: 0.0406 - val_accuracy: 0.9890\n",
            "Epoch 5/10\n",
            "470/470 [==============================] - 236s 503ms/step - loss: 0.0155 - accuracy: 0.9966 - val_loss: 0.1260 - val_accuracy: 0.9559\n",
            "Epoch 6/10\n",
            "470/470 [==============================] - 237s 503ms/step - loss: 0.0467 - accuracy: 0.9842 - val_loss: 0.0528 - val_accuracy: 0.9869\n",
            "Epoch 7/10\n",
            "470/470 [==============================] - 237s 505ms/step - loss: 0.0142 - accuracy: 0.9960 - val_loss: 0.0313 - val_accuracy: 0.9926\n",
            "Epoch 8/10\n",
            "470/470 [==============================] - 236s 503ms/step - loss: 0.0111 - accuracy: 0.9975 - val_loss: 0.0616 - val_accuracy: 0.9778\n",
            "Epoch 9/10\n",
            "470/470 [==============================] - 232s 494ms/step - loss: 0.0171 - accuracy: 0.9942 - val_loss: 0.0349 - val_accuracy: 0.9908\n",
            "Epoch 10/10\n",
            "470/470 [==============================] - 232s 493ms/step - loss: 0.0057 - accuracy: 0.9988 - val_loss: 0.0487 - val_accuracy: 0.9869\n"
          ],
          "name": "stdout"
        },
        {
          "output_type": "execute_result",
          "data": {
            "text/plain": [
              "<tensorflow.python.keras.callbacks.History at 0x7f5ba0409790>"
            ]
          },
          "metadata": {
            "tags": []
          },
          "execution_count": 44
        }
      ]
    },
    {
      "cell_type": "code",
      "metadata": {
        "id": "3q5zhm_K_nyP"
      },
      "source": [
        "# Predicting from test dataset\n",
        "y_pred1=model1.predict_classes(X_test)\n",
        "\n",
        "Confusion matrix\n",
        "cm = metrics.confusion_matrix(y_test, y_pred1)"
      ],
      "execution_count": 46,
      "outputs": []
    },
    {
      "cell_type": "code",
      "metadata": {
        "colab": {
          "base_uri": "https://localhost:8080/"
        },
        "id": "S2jx7m1u_n9P",
        "outputId": "645c7ff0-53f2-4995-c9bc-61b02ad23fce"
      },
      "source": [
        "#Calculating Accuracy score\n",
        "accuracy_score(y_test,y_pred1)"
      ],
      "execution_count": 47,
      "outputs": [
        {
          "output_type": "execute_result",
          "data": {
            "text/plain": [
              "0.9869042797353854"
            ]
          },
          "metadata": {
            "tags": []
          },
          "execution_count": 47
        }
      ]
    },
    {
      "cell_type": "code",
      "metadata": {
        "colab": {
          "base_uri": "https://localhost:8080/"
        },
        "id": "okLSu5zI_uKO",
        "outputId": "465b8bd9-8d93-40b7-9174-d27a39471b01"
      },
      "source": [
        "# Creating classification report \n",
        "print(classification_report(y_test,y_pred1))"
      ],
      "execution_count": 48,
      "outputs": [
        {
          "output_type": "stream",
          "text": [
            "              precision    recall  f1-score   support\n",
            "\n",
            "           0       0.98      0.99      0.99      7777\n",
            "           1       0.99      0.98      0.99      7037\n",
            "\n",
            "    accuracy                           0.99     14814\n",
            "   macro avg       0.99      0.99      0.99     14814\n",
            "weighted avg       0.99      0.99      0.99     14814\n",
            "\n"
          ],
          "name": "stdout"
        }
      ]
    }
  ]
}